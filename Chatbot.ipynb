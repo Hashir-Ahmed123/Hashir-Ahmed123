{
  "nbformat": 4,
  "nbformat_minor": 0,
  "metadata": {
    "colab": {
      "provenance": [],
      "include_colab_link": true
    },
    "kernelspec": {
      "name": "python3",
      "display_name": "Python 3"
    },
    "language_info": {
      "name": "python"
    }
  },
  "cells": [
    {
      "cell_type": "markdown",
      "metadata": {
        "id": "view-in-github",
        "colab_type": "text"
      },
      "source": [
        "<a href=\"https://colab.research.google.com/github/Hashir-Ahmed123/Hashir-Ahmed123/blob/main/Chatbot.ipynb\" target=\"_parent\"><img src=\"https://colab.research.google.com/assets/colab-badge.svg\" alt=\"Open In Colab\"/></a>"
      ]
    },
    {
      "cell_type": "markdown",
      "source": [
        "\n",
        "\n",
        "```\n",
        "Chatbot Processes\n",
        "library\n",
        "data set processing\n",
        "define intent\n",
        "building training dataset\n",
        "extraction -> classifier -> naviesbayes\n",
        "define response\n",
        "\n",
        "```\n",
        "\n"
      ],
      "metadata": {
        "id": "hdHewiocw3_c"
      }
    },
    {
      "cell_type": "markdown",
      "source": [
        "** Install and Import Library Nltk**"
      ],
      "metadata": {
        "id": "EE-SpUSR9nsx"
      }
    },
    {
      "cell_type": "code",
      "source": [
        "pip install nltk"
      ],
      "metadata": {
        "id": "WUzn0d-o9uS9"
      },
      "execution_count": null,
      "outputs": []
    },
    {
      "cell_type": "code",
      "source": [
        "import nltk"
      ],
      "metadata": {
        "id": "D7ionR4m9_s-"
      },
      "execution_count": null,
      "outputs": []
    },
    {
      "cell_type": "code",
      "source": [
        "nltk.download('punkt')"
      ],
      "metadata": {
        "id": "dn7x9J4r-Z4F"
      },
      "execution_count": null,
      "outputs": []
    },
    {
      "cell_type": "code",
      "source": [
        "from nltk.tokenize import word_tokenize\n",
        "text='tata'"
      ],
      "metadata": {
        "id": "ZlD1SE9r-tJk"
      },
      "execution_count": null,
      "outputs": []
    },
    {
      "cell_type": "code",
      "source": [
        "tokens=word_tokenize(text)"
      ],
      "metadata": {
        "id": "XfZKZLrkALmN"
      },
      "execution_count": null,
      "outputs": []
    },
    {
      "cell_type": "code",
      "source": [
        "intents = {\n",
        "    'greeting':['salam','hello','hey','oe','bhai','bhaya'],\n",
        "    'goodbye':['bye','tata','goodbye','seeyou'],\n",
        "    'question':['aik swal ha','question','i have a question','aik swal pocho'],\n",
        "\n",
        "}\n",
        "\n",
        "responses = {\n",
        "    'greeting' : 'tum phr agaie',\n",
        "    'goodbye'  : 'shakal mat dikhaya',\n",
        "    'question' : 'pochlo bhai ma apka lia hazir hn'\n",
        "}"
      ],
      "metadata": {
        "id": "VAjCeSUEAe-o"
      },
      "execution_count": null,
      "outputs": []
    },
    {
      "cell_type": "code",
      "source": [
        "training_data = []\n",
        "for intent,examples in intents.items():\n",
        "  for example in examples:\n",
        "    training_data.append((example,intent))"
      ],
      "metadata": {
        "id": "u5UmMHZUCd6i"
      },
      "execution_count": null,
      "outputs": []
    },
    {
      "cell_type": "code",
      "source": [
        "from nltk.classify import NaiveBayesClassifier\n",
        "from nltk.classify.util import accuracy\n",
        "\n",
        "def extract_features(text):\n",
        "  input_tokens = word_tokenize(text.lower())\n",
        "  return {word: word in input_tokens for word in input_tokens}\n",
        "\n",
        "\n",
        "training_features = [(extract_features(text),intent) for (text,intent) in training_data]\n",
        "classifier = NaiveBayesClassifier.train(training_features)\n",
        "print(\"Classifier Accuracy \" , accuracy(classifier,training_features))"
      ],
      "metadata": {
        "id": "x_W3bAiLK_ay"
      },
      "execution_count": null,
      "outputs": []
    },
    {
      "cell_type": "code",
      "source": [
        "def get_bot_response(user_input):\n",
        "  features=extract_features(user_input)\n",
        "  intent = classifier.classify(features)\n",
        "  return responses.get(intent)"
      ],
      "metadata": {
        "id": "Fz-8DSIfOqon"
      },
      "execution_count": null,
      "outputs": []
    },
    {
      "cell_type": "code",
      "source": [
        "while True:\n",
        "  userinputs = input(\"You : \")\n",
        "  if userinputs.lower() == 'exit':\n",
        "    break\n",
        "  bot_response=get_bot_response(userinputs)\n",
        "  print(\"Bots : \", bot_response)"
      ],
      "metadata": {
        "id": "aIpUrGK9PXoT"
      },
      "execution_count": null,
      "outputs": []
    }
  ]
}